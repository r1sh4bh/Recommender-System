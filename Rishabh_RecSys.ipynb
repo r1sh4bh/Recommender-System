{
 "cells": [
  {
   "cell_type": "markdown",
   "metadata": {},
   "source": [
    "# Artist Recommendation API"
   ]
  },
  {
   "cell_type": "markdown",
   "metadata": {},
   "source": [
    "## Rishabh Sharma"
   ]
  },
  {
   "cell_type": "code",
   "execution_count": 25,
   "metadata": {},
   "outputs": [
    {
     "name": "stdout",
     "output_type": "stream",
     "text": [
      " * Serving Flask app \"__main__\" (lazy loading)\n",
      " * Environment: production\n",
      "   WARNING: This is a development server. Do not use it in a production deployment.\n",
      "   Use a production WSGI server instead.\n",
      " * Debug mode: off\n"
     ]
    },
    {
     "name": "stderr",
     "output_type": "stream",
     "text": [
      " * Running on http://localhost:6000/ (Press CTRL+C to quit)\n",
      "127.0.0.1 - - [21/Mar/2020 22:58:51] \"GET /ratings/top?userId=2100&count=5 HTTP/1.1\" 200 -\n",
      "127.0.0.1 - - [21/Mar/2020 22:59:03] \"GET /ratings/top?userId=1900&count=5 HTTP/1.1\" 200 -\n",
      "127.0.0.1 - - [21/Mar/2020 22:59:18] \"GET /ratings/top?userId=1970&count=5 HTTP/1.1\" 200 -\n",
      "127.0.0.1 - - [21/Mar/2020 22:59:23] \"GET /ratings/top?userId=1971&count=5 HTTP/1.1\" 200 -\n"
     ]
    }
   ],
   "source": [
    "# Import packages\n",
    "from flask import Flask, request, jsonify\n",
    "import pandas as pd\n",
    "\n",
    "# Initialize app\n",
    "app = Flask(__name__) #default\n",
    "\n",
    "# Read in the predictions file and round off the score to nearest decimal\n",
    "predictions = pd.read_csv(\"Predictions.csv\").dropna() \n",
    "predictions.score = round(predictions.score, 1)\n",
    "\n",
    "# Read in the artists file and drop the colmumns not needed\n",
    "artists = pd.read_table(\"artists.dat\").dropna()\n",
    "artists = artists.drop([\"url\", \"pictureURL\"], axis = 1)\n",
    "\n",
    "# Combine both files to get artist names and change the data type of id column\n",
    "predictions = predictions.merge(artists, on=\"id\", how=\"left\").sort_values(['UserID', 'score'], ascending=[True, False])\n",
    "predictions = predictions.astype({'id': 'int64'})\n",
    "\n",
    "## The application definiton\n",
    "### Endpoint - one route /ratings/top - one HTTP verb = GET\n",
    "@app.route(\"/ratings/top\", methods=[\"GET\"])\n",
    "def top_ratings():\n",
    "    ## read the parameters of the API call\n",
    "    userId_str = request.args.get(\"userId\") #parameters specification is always in string form\n",
    "    try:\n",
    "        userId = int(userId_str)\n",
    "    except:\n",
    "        return \"'UserID' is required and should be an Integer.\"\n",
    "        sys.exit(\"'UserID' is required and should be an Integer.\")\n",
    "       \n",
    "    count_str = request.args.get(\"count\")\n",
    "    try:\n",
    "        count = int(count_str)\n",
    "    except:\n",
    "        count = 5\n",
    "    \n",
    "    # filter predictions for the given UserID\n",
    "    predict = predictions[predictions.UserID == userId].head(count)\n",
    "    \n",
    "    # select Artist ID, name and score;  and transform to list\n",
    "    top_ratings = list(predict[[\"id\", \"name\", \"score\"]].T.to_dict().values()) \n",
    "    \n",
    "    # Return the result to the API\n",
    "    return jsonify(top_ratings)\n",
    "\n",
    "### Put endpoint online\n",
    "if __name__ == '__main__':\n",
    "    app.run(host='localhost', port=6000)"
   ]
  },
  {
   "cell_type": "markdown",
   "metadata": {},
   "source": [
    "#### NOTE:"
   ]
  },
  {
   "cell_type": "markdown",
   "metadata": {},
   "source": [
    "#### The datebase for the API is built only for the users belonging to the Test set which have user IDs from 1662 to 2100. However, some of them get dropped due to NAs in recommendation."
   ]
  },
  {
   "cell_type": "markdown",
   "metadata": {},
   "source": [
    "#### For the Flask API call, please pick a user ID in the above range or from the Prediction.csv file."
   ]
  }
 ],
 "metadata": {
  "kernelspec": {
   "display_name": "Python 3",
   "language": "python",
   "name": "python3"
  },
  "language_info": {
   "codemirror_mode": {
    "name": "ipython",
    "version": 3
   },
   "file_extension": ".py",
   "mimetype": "text/x-python",
   "name": "python",
   "nbconvert_exporter": "python",
   "pygments_lexer": "ipython3",
   "version": "3.7.4"
  }
 },
 "nbformat": 4,
 "nbformat_minor": 2
}
